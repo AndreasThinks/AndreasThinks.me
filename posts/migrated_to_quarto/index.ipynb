{
 "cells": [
  {
   "cell_type": "raw",
   "metadata": {},
   "source": [
    "---\n",
    "title: \"I've migrated to Quarto!\"\n",
    "format: html\n",
    "description: \"I've migrated to a fancy new technical writing platform, and I'm a little in love with it\"\n",
    "date: \"2022-09-27\" \n",
    "categories:\n",
    "  - news\n",
    "---"
   ]
  },
  {
   "cell_type": "markdown",
   "metadata": {
    "vscode": {
     "languageId": "python"
    }
   },
   "source": [
    "Well, isn't this all fancy and posh! After much back and forth over a decent blogging platform, I think I've finally found a decent, well maintained home ... meet [Quarto!](https://quarto.org/)\n",
    "\n",
    "So, what did I want from a blogging platform, and why did it take so long to get here?\n",
    "\n",
    "- Easily maintained, static pages (no paying for fancy maintained services^[There are plenty of fancy companies that probably advertise on your favourite podcast or Youtube video, but I wanted to keep it simple.])\n",
    "- Native(ish) support for [Python Jupyter](https://jupyter.org/) notebooks and [RMarkdown](https://rmarkdown.rstudio.com/) \n",
    "- Support for both technical writing (functions, code, citations) and interactive elements\n",
    "- Make it pretty!\n",
    "\n",
    "So, does it work?  Is it pretty? It's *gorgeous*.\n",
    "\n",
    "![Gorgeous pictures! With Alt Text!](unsplash.jpg){fig-alt=\"A picture of a red computer chip.\"}\n",
    "\n",
    "I've tried a variety of options over the past few years (notably [Pelican](https://getpelican.com/), [Nikola](https://getnikola.com/) and [Hugo](https://gohugo.io/)) but none of them have quite fit the bill"
   ]
  },
  {
   "cell_type": "markdown",
   "metadata": {},
   "source": [
    "::: {.column-margin}\n",
    "I eventually settled on Nikola because of how consistenly it handled Jupyter, but found RMarkdown support a pain, and it wasn't quite as well maintained and documented as I would have liked.\n",
    ":::"
   ]
  },
  {
   "cell_type": "markdown",
   "metadata": {},
   "source": [
    "You've probably also noted some of the niftier other features of Quarto sprinkled through this, especially for technical writing... callouts, citations, bibliographies ahoy!"
   ]
  },
  {
   "cell_type": "markdown",
   "metadata": {},
   "source": [
    ":::{.callout-note collapse=\"true\"}\n",
    "## Check out a Callout!\n",
    "I've been using Obsidian to manage my personal notes for a few months, and being able to make notes gorgeous and functional has been a real pleasure...now I can share that with everyone else!\n",
    ":::"
   ]
  },
  {
   "cell_type": "markdown",
   "metadata": {},
   "source": [
    "With native support for interactive Jupyter widgets, I'm looking forward to seeing just how many plots and maps I can show off... It's a really promising start! I haven't got anything too much to show for now, so instead check out this nifty, automatically generated plot."
   ]
  },
  {
   "cell_type": "raw",
   "metadata": {},
   "source": [
    "```{mermaid}\n",
    "flowchart LR\n",
    "  A[Interactive plot?] --> B(Excited audience...)\n",
    "  B --> C[Excitement!]\n",
    "  B --> D[Confusion!]\n",
    "```"
   ]
  },
  {
   "cell_type": "markdown",
   "metadata": {},
   "source": [
    "Hopefully this is the first post of many on my new and improved blog, and I hope you enjoy it!"
   ]
  }
 ],
 "metadata": {
  "kernelspec": {
   "display_name": "Python 3.10.0 64-bit",
   "language": "python",
   "name": "python3"
  },
  "language_info": {
   "name": "python",
   "version": "3.10.0"
  },
  "orig_nbformat": 4,
  "vscode": {
   "interpreter": {
    "hash": "6847c98a8f86b01c6a19c518cd2f366693b80566b266804d5ca763cbb223f52b"
   }
  }
 },
 "nbformat": 4,
 "nbformat_minor": 2
}
